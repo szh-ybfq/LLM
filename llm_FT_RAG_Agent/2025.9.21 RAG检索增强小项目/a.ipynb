{
 "cells": [
  {
   "cell_type": "code",
   "execution_count": 1,
   "id": "b00acb74",
   "metadata": {},
   "outputs": [
    {
     "name": "stderr",
     "output_type": "stream",
     "text": [
      "d:\\Anaconda\\envs\\Basic\\lib\\site-packages\\tqdm\\auto.py:21: TqdmWarning: IProgress not found. Please update jupyter and ipywidgets. See https://ipywidgets.readthedocs.io/en/stable/user_install.html\n",
      "  from .autonotebook import tqdm as notebook_tqdm\n",
      "USER_AGENT environment variable not set, consider setting it to identify your requests.\n"
     ]
    }
   ],
   "source": [
    "from langchain.document_loaders import PyPDFLoader, TextLoader, CSVLoader, UnstructuredWordDocumentLoader, UnstructuredPowerPointLoader,WebBaseLoader\n",
    "from langchain.text_splitter import RecursiveCharacterTextSplitter"
   ]
  },
  {
   "cell_type": "markdown",
   "id": "b200ed11",
   "metadata": {},
   "source": [
    "1.2 文本分隔"
   ]
  },
  {
   "cell_type": "code",
   "execution_count": 2,
   "id": "bacf5af2",
   "metadata": {},
   "outputs": [
    {
     "data": {
      "text/plain": [
       "[Document(metadata={'source': 'a.txt'}, page_content='You have a dog.\\nYou have a pig.\\n\\nSo I want to have one.')]"
      ]
     },
     "execution_count": 2,
     "metadata": {},
     "output_type": "execute_result"
    }
   ],
   "source": [
    "text_splitter = RecursiveCharacterTextSplitter(\n",
    "    chunk_size=1000, \n",
    "    chunk_overlap=0,\n",
    "    separators=[\"\\n\\n\", \"\\n\", \" \", \"\"]\n",
    ")\n",
    "\n",
    "loader = TextLoader('a.txt', encoding='utf8')\n",
    "document = loader.load()\n",
    "data = text_splitter.split_documents(document)\n",
    "data"
   ]
  },
  {
   "cell_type": "markdown",
   "id": "3c3fe328",
   "metadata": {},
   "source": [
    "1.3 向量嵌入"
   ]
  },
  {
   "cell_type": "code",
   "execution_count": 3,
   "id": "1abd62b4",
   "metadata": {},
   "outputs": [
    {
     "name": "stderr",
     "output_type": "stream",
     "text": [
      "C:\\Users\\Lenovo\\AppData\\Local\\Temp\\ipykernel_3892\\1065644366.py:5: LangChainDeprecationWarning: The class `HuggingFaceEmbeddings` was deprecated in LangChain 0.2.2 and will be removed in 1.0. An updated version of the class exists in the :class:`~langchain-huggingface package and should be used instead. To use it run `pip install -U :class:`~langchain-huggingface` and import as `from :class:`~langchain_huggingface import HuggingFaceEmbeddings``.\n",
      "  embeddings_model = HuggingFaceEmbeddings(model_name=\"all-MiniLM-L6-v2\")\n"
     ]
    },
    {
     "ename": "NameError",
     "evalue": "name 'split_documents' is not defined",
     "output_type": "error",
     "traceback": [
      "\u001b[1;31m---------------------------------------------------------------------------\u001b[0m",
      "\u001b[1;31mNameError\u001b[0m                                 Traceback (most recent call last)",
      "Cell \u001b[1;32mIn[3], line 8\u001b[0m\n\u001b[0;32m      5\u001b[0m embeddings_model \u001b[38;5;241m=\u001b[39m HuggingFaceEmbeddings(model_name\u001b[38;5;241m=\u001b[39m\u001b[38;5;124m\"\u001b[39m\u001b[38;5;124mall-MiniLM-L6-v2\u001b[39m\u001b[38;5;124m\"\u001b[39m)\n\u001b[0;32m      7\u001b[0m \u001b[38;5;66;03m# 生成嵌入向量\u001b[39;00m\n\u001b[1;32m----> 8\u001b[0m texts \u001b[38;5;241m=\u001b[39m [doc\u001b[38;5;241m.\u001b[39mpage_content \u001b[38;5;28;01mfor\u001b[39;00m doc \u001b[38;5;129;01min\u001b[39;00m \u001b[43msplit_documents\u001b[49m]\n\u001b[0;32m      9\u001b[0m text_embeddings \u001b[38;5;241m=\u001b[39m embeddings_model\u001b[38;5;241m.\u001b[39membed_documents(texts)\n\u001b[0;32m     11\u001b[0m \u001b[38;5;66;03m# 嵌入向量是浮点数列表\u001b[39;00m\n",
      "\u001b[1;31mNameError\u001b[0m: name 'split_documents' is not defined"
     ]
    }
   ],
   "source": [
    "from langchain.embeddings import HuggingFaceEmbeddings\n",
    "import numpy as np\n",
    "\n",
    "# 初始化嵌入模型\n",
    "embeddings_model = HuggingFaceEmbeddings(model_name=\"all-MiniLM-L6-v2\")\n",
    "\n",
    "# 生成嵌入向量\n",
    "texts = [doc.page_content for doc in split_documents]\n",
    "text_embeddings = embeddings_model.embed_documents(texts)\n",
    "\n",
    "# 嵌入向量是浮点数列表\n",
    "print(f\"每个文本的嵌入维度: {len(text_embeddings[0])}\")"
   ]
  },
  {
   "cell_type": "code",
   "execution_count": null,
   "id": "80371e62",
   "metadata": {},
   "outputs": [],
   "source": [
    "# 4、向量存储\n",
    "from langchain.vectorstores import Chroma\n",
    "\n",
    "Chroma.from_documents(\n",
    "    data, \n",
    "    embeddings_model,\n",
    "    persist_directory=\"./ \"\n",
    ").persist()"
   ]
  },
  {
   "cell_type": "code",
   "execution_count": null,
   "id": "acf9a856",
   "metadata": {},
   "outputs": [],
   "source": [
    "# 1、查询嵌入\n",
    "def get_query_embedding(query, embeddings_model):\n",
    "    \"\"\"将查询转换为嵌入向量\"\"\"\n",
    "    return embeddings_model.embed_query(query)\n",
    "\n",
    "# 示例\n",
    "user_query = \"机器学习的主要应用领域有哪些？\"\n",
    "query_embedding = get_query_embedding(user_query, embeddings_model)"
   ]
  },
  {
   "cell_type": "code",
   "execution_count": null,
   "id": "422b7528",
   "metadata": {},
   "outputs": [
    {
     "ename": "NameError",
     "evalue": "name 'vectorstore' is not defined",
     "output_type": "error",
     "traceback": [
      "\u001b[1;31m---------------------------------------------------------------------------\u001b[0m",
      "\u001b[1;31mNameError\u001b[0m                                 Traceback (most recent call last)",
      "Cell \u001b[1;32mIn[7], line 13\u001b[0m\n\u001b[0;32m     10\u001b[0m     \u001b[38;5;28;01mreturn\u001b[39;00m results\n\u001b[0;32m     12\u001b[0m \u001b[38;5;66;03m# 检索相关文档\u001b[39;00m\n\u001b[1;32m---> 13\u001b[0m relevant_docs \u001b[38;5;241m=\u001b[39m retrieve_relevant_documents(user_query, \u001b[43mvectorstore\u001b[49m, top_k\u001b[38;5;241m=\u001b[39m\u001b[38;5;241m3\u001b[39m)\n",
      "\u001b[1;31mNameError\u001b[0m: name 'vectorstore' is not defined"
     ]
    }
   ],
   "source": [
    "def retrieve_relevant_documents(query, vectorstore, top_k=5, strategy=\"similarity\"):\n",
    "    \"\"\"检索相关文档\"\"\"\n",
    "    if strategy == \"similarity\":\n",
    "        # 相似度搜索(正、余弦相似度)\n",
    "        results = vectorstore.similarity_search(query, k=top_k)\n",
    "    elif strategy == \"mmr\":\n",
    "        # 最大边际相关性搜索（平衡相关性和多样性）\n",
    "        results = vectorstore.max_marginal_relevance_search(query, k=top_k)\n",
    "    \n",
    "    return results\n",
    "\n",
    "# 检索相关文档\n",
    "relevant_docs = retrieve_relevant_documents(user_query, vectorstore, top_k=3)"
   ]
  }
 ],
 "metadata": {
  "kernelspec": {
   "display_name": "Basic",
   "language": "python",
   "name": "python3"
  },
  "language_info": {
   "codemirror_mode": {
    "name": "ipython",
    "version": 3
   },
   "file_extension": ".py",
   "mimetype": "text/x-python",
   "name": "python",
   "nbconvert_exporter": "python",
   "pygments_lexer": "ipython3",
   "version": "3.9.23"
  }
 },
 "nbformat": 4,
 "nbformat_minor": 5
}
